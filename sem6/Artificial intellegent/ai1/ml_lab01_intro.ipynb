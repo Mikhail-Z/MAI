{
 "cells": [
  {
   "cell_type": "markdown",
   "metadata": {},
   "source": [
    "# Лабораторная работа 1\n",
    "## Язык Python, библиотеки NumPy и Pandas для анализа данных."
   ]
  },
  {
   "cell_type": "markdown",
   "metadata": {},
   "source": [
    "ФИО: Забелин Михаил Константинович\n",
    "\n",
    "Группа: 8О-306Б"
   ]
  },
  {
   "cell_type": "code",
   "execution_count": 1,
   "metadata": {
    "collapsed": true
   },
   "outputs": [],
   "source": [
    "import numpy as np\n",
    "import pandas as pd"
   ]
  },
  {
   "cell_type": "markdown",
   "metadata": {},
   "source": [
    "## Часть 1: Python"
   ]
  },
  {
   "cell_type": "markdown",
   "metadata": {},
   "source": [
    "#### 1. Напишите код, который сформирует список всех натуральных чисел, не превосходящих 100, которые делятся на 7 и не делятся на 5. Нельзя использовать циклы — выполните это задание с помощью list comprehension."
   ]
  },
  {
   "cell_type": "code",
   "execution_count": null,
   "metadata": {
    "collapsed": false
   },
   "outputs": [],
   "source": [
    "squares = [x for x in range(100) if x % 7 is 0 and x % 5 is not 0]\n",
    "squares"
   ]
  },
  {
   "cell_type": "markdown",
   "metadata": {},
   "source": [
    "#### 2. Напишите функцию `sort_tokens(s)`, которая принимает на вход строку, разделяет ее на токены по запятым, сортирует токены с помощью функции `sorted()` и снова соединяет их в одну строку через запятые. Например, для строки `u\"ночь,фонарь,улица\"` функция должна выдать `u\"ночь,улица,фонарь\"`. Придумайте несколько входных строк и протестируйте функцию на них."
   ]
  },
  {
   "cell_type": "markdown",
   "metadata": {},
   "source": [
    "Обратите внимание, что склеить строки можно с помощью конструкции `'x'.join(...)`. Например:"
   ]
  },
  {
   "cell_type": "code",
   "execution_count": 2,
   "metadata": {
    "collapsed": false
   },
   "outputs": [
    {
     "data": {
      "text/plain": [
       "'i! am! very! excited! :-)'"
      ]
     },
     "execution_count": 2,
     "metadata": {},
     "output_type": "execute_result"
    }
   ],
   "source": [
    "'! '.join(['i', 'am', 'very', 'excited', ':-)'])"
   ]
  },
  {
   "cell_type": "code",
   "execution_count": null,
   "metadata": {
    "collapsed": true
   },
   "outputs": [],
   "source": [
    "words = input()\n",
    "list_of_words = words.split(\", \")\n",
    "list_of_words = sorted(list_of_words)\n",
    "sorted_words = \", \".join(list_of_words)\n",
    "sorted_words"
   ]
  },
  {
   "cell_type": "markdown",
   "metadata": {},
   "source": [
    "#### 3. Напишите функцию `remove_duplicates(a)`, которая принимает на вход список и возвращает его же, но без дубликатов и в отсортированном виде. Например, для списка `[u\"ночь\", u\"улица\", u\"фонарь\", u\"аптека\", u\"аптека\", u\"улица\", u\"фонарь\"]` результат должен быть `[u\"аптека\", u\"ночь\", u\"улица\", u\"фонарь\", ]`."
   ]
  },
  {
   "cell_type": "markdown",
   "metadata": {},
   "source": [
    "Подсказка: обратите внимание на структуру `set`!"
   ]
  },
  {
   "cell_type": "code",
   "execution_count": null,
   "metadata": {
    "collapsed": true
   },
   "outputs": [],
   "source": [
    "def remove_duplicate(words):\n",
    "    sorted_unique_words = sorted(set(words))\n",
    "    return list(sorted_unique_words)"
   ]
  },
  {
   "cell_type": "markdown",
   "metadata": {},
   "source": [
    "#### 4. Напишите функцию `word_counts(texts)`, которая принимает на вход список строк, и печатает пары (слово, число вхождений). Считайте, что слова в текстах могут быть разделены только пробелами. Например, для входа `[u'ночь улица фонарь аптека', u'аптека улица фонарь']` должно быть напечатано\n",
    ">аптека 2\n",
    "\n",
    ">улица 2\n",
    "\n",
    ">фонарь 2\n",
    "\n",
    ">ночь 1"
   ]
  },
  {
   "cell_type": "markdown",
   "metadata": {},
   "source": [
    "Подсказки:\n",
    "\n",
    "Чтобы разбить каждый из текстов на слова, воспользуйтесь функцией `map`, которая применяет заданную функцию к каждому элементу списка. Например, если бы нужно было каждый из текстов привести к нижнему регистру, то команда выглядела бы так:"
   ]
  },
  {
   "cell_type": "code",
   "execution_count": 3,
   "metadata": {
    "collapsed": false
   },
   "outputs": [
    {
     "data": {
      "text/plain": [
       "['abcdefg', 'hijkl']"
      ]
     },
     "execution_count": 3,
     "metadata": {},
     "output_type": "execute_result"
    }
   ],
   "source": [
    "map(lambda x: x.lower(), [\"abCDefg\", \"HIjkL\"])"
   ]
  },
  {
   "cell_type": "markdown",
   "metadata": {},
   "source": [
    "После первого шага вы получите список, состоящий из списков слов. Чтобы объединить их в один список слов, воспользуйтесь функцией `reduce`. Например, просуммировать числа из списка с ее помощью можно так:\n",
    "\n"
   ]
  },
  {
   "cell_type": "code",
   "execution_count": 4,
   "metadata": {
    "collapsed": false
   },
   "outputs": [
    {
     "data": {
      "text/plain": [
       "15"
      ]
     },
     "execution_count": 4,
     "metadata": {},
     "output_type": "execute_result"
    }
   ],
   "source": [
    "reduce(lambda x, y: x + y, [1, 2, 3, 4, 5])"
   ]
  },
  {
   "cell_type": "markdown",
   "metadata": {},
   "source": [
    "Для подсчета количества вхождений слов воспользуйтесь структурой `defaultdict` из модуля `collections`. В отличие от обычного `dict`, она не генерирует ошибку при обращении к несуществущему ключу, а создает новую запись, инициализируемую нулевым значением. Например:"
   ]
  },
  {
   "cell_type": "code",
   "execution_count": 5,
   "metadata": {
    "collapsed": false
   },
   "outputs": [
    {
     "name": "stdout",
     "output_type": "stream",
     "text": [
      "defaultdict(<type 'int'>, {})\n",
      "defaultdict(<type 'int'>, {'abc': 1})\n",
      "defaultdict(<type 'int'>, {'xxx': 0, 'abc': 1})\n"
     ]
    }
   ],
   "source": [
    "from collections import defaultdict\n",
    "d = defaultdict(int)\n",
    "print d\n",
    "d['abc'] += 1\n",
    "print d\n",
    "d['xxx']\n",
    "print d"
   ]
  },
  {
   "cell_type": "code",
   "execution_count": null,
   "metadata": {
    "collapsed": true
   },
   "outputs": [],
   "source": [
    "import collections\n",
    "\n",
    "\n",
    "def word_counts(texts):\n",
    "    texts = [row.split() for row in texts]\n",
    "    words = [word.capitalize() for elem in texts for word in elem] \n",
    "    unique_words = collections.Counter(words)\n",
    "    for word in unique_words:\n",
    "        print(word, unique_words[word])\n",
    "    return unique_words"
   ]
  },
  {
   "cell_type": "markdown",
   "metadata": {},
   "source": [
    "#### 5. Проанализируйте английский перевод \"Преступления и наказания\". Найдите 20 самых популярных слов и 20 слов, которые встречаются только один раз."
   ]
  },
  {
   "cell_type": "markdown",
   "metadata": {},
   "source": [
    "Приведите текст к нижнему регистру. Разделите текст на слова, считая разделителями все, кроме букв. Обратите внимание на функцию `split` из модуля `re`.\n",
    "\n",
    "Не забудьте удалить пустые слова:\n",
    "```\n",
    "words = filter(lambda x: len(x) > 0, words)\n",
    "```"
   ]
  },
  {
   "cell_type": "code",
   "execution_count": 6,
   "metadata": {
    "collapsed": false
   },
   "outputs": [],
   "source": [
    "from urllib import urlopen\n",
    "url = \"http://www.gutenberg.org/files/2554/2554.txt\"\n",
    "response = urlopen(url)\n",
    "raw_text = response.read().decode('utf8')"
   ]
  },
  {
   "cell_type": "code",
   "execution_count": 7,
   "metadata": {
    "collapsed": false
   },
   "outputs": [
    {
     "data": {
      "text/plain": [
       "u'r five\\r\\nchildren in only two rooms. The father and mother spent their evenings\\r\\nin reading aloud to '"
      ]
     },
     "execution_count": 7,
     "metadata": {},
     "output_type": "execute_result"
    }
   ],
   "source": [
    "raw_text[1000:1100]"
   ]
  },
  {
   "cell_type": "code",
   "execution_count": null,
   "metadata": {
    "collapsed": false
   },
   "outputs": [],
   "source": [
    "import urllib.request\n",
    "import collections\n",
    "import re\n",
    "\n",
    "TOP = 20\n",
    "url = \"http://www.gutenberg.org/files/2554/2554-0.txt\"\n",
    "response = urllib.request.urlopen(url)\n",
    "raw_text = response.read().decode('utf8')\n",
    "pattern = r\"[A-Za-z]{1,}\"\n",
    "words = re.findall(pattern, raw_text)\n",
    "words = [word.capitalize() for word in words]\n",
    "\n",
    "unique_words = collections.Counter(words)\n",
    "\n",
    "most_frequent_words = unique_words.most_common(TOP)\n",
    "for word in most_frequent_words:\n",
    "    print(word[0], word[1])\n",
    "\n",
    "least_frequent_words = unique_words.most_common()[:-TOP-1:-1]\n",
    "for word in least_frequent_words:\n",
    "    print(word[0])\n"
   ]
  },
  {
   "cell_type": "markdown",
   "metadata": {},
   "source": [
    "## Часть 2: NumPy и SciPy"
   ]
  },
  {
   "cell_type": "markdown",
   "metadata": {},
   "source": [
    "#### 1. Повторите 1000 раз следующий эксперимент: сгенерируйте две матрицы размера $10 \\times 10$ из стандартного нормального распределения, перемножьте их (как матрицы) и найдите максимальный элемент. Какое среднее значение по экспериментам у максимальных элементов? А 95-процентная квантиль?"
   ]
  },
  {
   "cell_type": "markdown",
   "metadata": {},
   "source": [
    "Для вычисления квантили воспользуйтесь функцией `np.percentile`"
   ]
  },
  {
   "cell_type": "code",
   "execution_count": null,
   "metadata": {
    "collapsed": true
   },
   "outputs": [],
   "source": []
  },
  {
   "cell_type": "markdown",
   "metadata": {},
   "source": [
    "#### 2. Сгенерируйте 1000 чисел из распределения Пуассона с параметром $\\lambda = 5$. Сформируйте массив, в котором в i-м элементе будет записано количество сгенерированных чисел, равных i."
   ]
  },
  {
   "cell_type": "markdown",
   "metadata": {},
   "source": [
    "Обратите внимание на функцию `np.bincount`"
   ]
  },
  {
   "cell_type": "code",
   "execution_count": null,
   "metadata": {
    "collapsed": false
   },
   "outputs": [],
   "source": []
  },
  {
   "cell_type": "markdown",
   "metadata": {},
   "source": [
    "#### 3. Реализуйте функцию, которая принимает на вход numpy-массив целых чисел `a`, и генерирует массив, в котором число `i` встречается `a[i]` раз. Протестируйте на результате из прошлого задания."
   ]
  },
  {
   "cell_type": "markdown",
   "metadata": {},
   "source": [
    "Обратите внимание на функцию `np.repeat`"
   ]
  },
  {
   "cell_type": "code",
   "execution_count": null,
   "metadata": {
    "collapsed": false
   },
   "outputs": [],
   "source": []
  },
  {
   "cell_type": "markdown",
   "metadata": {},
   "source": [
    "#### 4. Напишите функцию `scale(X)`, которая принимает на вход матрицу и масштабирует каждый ее столбец (вычитает среднее и делит на стандартное отклонение). Убедитесь, что в функции не будет происходить деления на ноль. Протестируйте на каких-нибудь данных."
   ]
  },
  {
   "cell_type": "code",
   "execution_count": null,
   "metadata": {
    "collapsed": false
   },
   "outputs": [],
   "source": []
  },
  {
   "cell_type": "markdown",
   "metadata": {},
   "source": [
    "#### 5. Сгенерируйте матрицу с элементами из нормального распределения $\\mathcal{N}(10, 1)$. Найдите ее:\n",
    "- определитель (determinant)\n",
    "- след (trace)\n",
    "- наименьший и наибольший элементы\n",
    "- собственные числа\n",
    "- обратную матрицу"
   ]
  },
  {
   "cell_type": "code",
   "execution_count": null,
   "metadata": {
    "collapsed": true
   },
   "outputs": [],
   "source": []
  },
  {
   "cell_type": "markdown",
   "metadata": {},
   "source": [
    "## Часть 3: Pandas"
   ]
  },
  {
   "cell_type": "markdown",
   "metadata": {},
   "source": [
    "#### Ответьте на вопросы о данных по авиарейсам в США за январь-апрель 2008 года.\n",
    "\n",
    "Данные: http://stat-computing.org/dataexpo/2009/2008.csv.bz2\n",
    "(обратите внимание, что распаковывать этот файл не обязательно — функция `pandas.read_csv` умеет читать из архивов автоматически)\n",
    "\n",
    "Описание: http://stat-computing.org/dataexpo/2009/the-data.html\n",
    "\n",
    "1. Какая из причин отмены рейса (`CancellationCode`) была самой частой? (расшифровки кодов можно найти в описании данных)\n",
    "2. Найдите среднее, минимальное и максимальное расстояние, пройденное самолетом.\n",
    "3. Не выглядит ли подозрительным минимальное пройденное расстояние? В какие дни и на каких рейсах оно было? Какое расстояние было пройдено этими же рейсами в другие дни?\n",
    "4. Из какого аэропорта было произведено больше всего вылетов? В каком городе он находится?\n",
    "5. Найдите для каждого аэропорта среднее время полета (`AirTime`) по всем вылетевшим из него рейсам. Какой аэропорт имеет наибольшее значение этого показателя?\n",
    "6. Найдите аэропорт, у которого наибольшая доля задержанных (`DepDelay > 0`) рейсов. Исключите при этом из рассмотрения аэропорты, из которых было отправлено меньше 1000 рейсов (используйте функцию `filter` после `groupby`)."
   ]
  },
  {
   "cell_type": "code",
   "execution_count": null,
   "metadata": {
    "collapsed": true
   },
   "outputs": [],
   "source": []
  }
 ],
 "metadata": {
  "kernelspec": {
   "display_name": "Python 3",
   "language": "python",
   "name": "python3"
  },
  "language_info": {
   "codemirror_mode": {
    "name": "ipython",
    "version": 3
   },
   "file_extension": ".py",
   "mimetype": "text/x-python",
   "name": "python",
   "nbconvert_exporter": "python",
   "pygments_lexer": "ipython3",
   "version": "3.6.0"
  }
 },
 "nbformat": 4,
 "nbformat_minor": 0
}
